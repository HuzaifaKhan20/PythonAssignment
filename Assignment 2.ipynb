{
 "cells": [
  {
   "cell_type": "code",
   "execution_count": 3,
   "metadata": {},
   "outputs": [
    {
     "name": "stdout",
     "output_type": "stream",
     "text": [
      "Enter the marks of English 70\n",
      "Enter the marks of PST 70\n",
      "Enter the marks of Math 70\n",
      "Enter the marks of Physics 70\n",
      "Enter the marks of Urdu 70\n",
      "Total = 350\n",
      "Percentage = 70.0%\n",
      "Grade: A\n"
     ]
    }
   ],
   "source": [
    "#Markssheet Program\n",
    "English=int(input(\"Enter the marks of English \"))\n",
    "PST=int(input(\"Enter the marks of PST \"))\n",
    "Math=int(input(\"Enter the marks of Math \"))\n",
    "Physics=int(input(\"Enter the marks of Physics \"))\n",
    "Urdu=int(input(\"Enter the marks of Urdu \"))\n",
    "\n",
    "Total = (English+Urdu+PST+Math+Physics)\n",
    "print(\"Total = \"+str(Total))\n",
    "Per = (Total*100)/500\n",
    "print(\"Percentage = \"+str(Per)+\"%\")\n",
    "if(Per>=90):\n",
    "    print(\"Grade: A+\")\n",
    "elif(Per>=80 and Per<90):\n",
    "    print(\"Grade: A1\")\n",
    "elif(Per>=70 and Per<80):\n",
    "    print(\"Grade: A\")\n",
    "elif(Per>=60 and Per<70):\n",
    "    print(\"Grade: B\")\n",
    "elif(Per>=50 and Per<60):\n",
    "    print(\"Grade: C\")\n",
    "elif(Per>=40 and Per<50):\n",
    "    print(\"Grade: D\")\n",
    "else:\n",
    "    print(\"Grade: F\")"
   ]
  },
  {
   "cell_type": "code",
   "execution_count": 4,
   "metadata": {},
   "outputs": [
    {
     "name": "stdout",
     "output_type": "stream",
     "text": [
      "Please Enter a Number : 4\n",
      "This Number is Even\n"
     ]
    }
   ],
   "source": [
    "#Even or Odd Program\n",
    "a=int(input(\"Please Enter a Number : \"));  \n",
    "if(a%2==0):  \n",
    "    print(\"This Number is Even\")  \n",
    "else:  \n",
    "    print(\"This Number is Odd\")  "
   ]
  },
  {
   "cell_type": "code",
   "execution_count": 11,
   "metadata": {},
   "outputs": [
    {
     "name": "stdout",
     "output_type": "stream",
     "text": [
      "The length of the given list is :  5\n"
     ]
    }
   ],
   "source": [
    "#Length of list Program\n",
    "khan=len([1,2,3,4,5])\n",
    "\n",
    "print(\"The length of the given list is : \", khan)"
   ]
  },
  {
   "cell_type": "code",
   "execution_count": 25,
   "metadata": {},
   "outputs": [
    {
     "name": "stdout",
     "output_type": "stream",
     "text": [
      "Sum of all elements in given list:  66\n"
     ]
    }
   ],
   "source": [
    "# Python program to find sum of elements in list \n",
    "khan1 = [6, 5, 1, 8, 2] \n",
    "\n",
    "\n",
    "for ele in range(0, len(khan1)): \n",
    "    total = total + khan1[ele] \n",
    "\n",
    " \n",
    "print(\"Sum of all elements in given list: \", total) \n"
   ]
  },
  {
   "cell_type": "code",
   "execution_count": 24,
   "metadata": {},
   "outputs": [
    {
     "name": "stdout",
     "output_type": "stream",
     "text": [
      "Largest element is: 48\n"
     ]
    }
   ],
   "source": [
    "# Python program to find largest number in a list\n",
    "khan2 = [17, 2, 48, 45, 9] \n",
    "khan2.sort() \n",
    " \n",
    "print(\"Largest element is:\", khan2[-1]) "
   ]
  },
  {
   "cell_type": "code",
   "execution_count": 30,
   "metadata": {},
   "outputs": [
    {
     "name": "stdout",
     "output_type": "stream",
     "text": [
      "The elements of the list that are less than 5 :  2\n"
     ]
    }
   ],
   "source": [
    "#Python program to find the elements of the list that are less than 5 \n",
    "khan3 = [6, 5, 7, 8, 2] \n",
    "print(\"The elements of the list that are less than 5 : \", min(khan3))"
   ]
  }
 ],
 "metadata": {
  "kernelspec": {
   "display_name": "Python 3",
   "language": "python",
   "name": "python3"
  },
  "language_info": {
   "codemirror_mode": {
    "name": "ipython",
    "version": 3
   },
   "file_extension": ".py",
   "mimetype": "text/x-python",
   "name": "python",
   "nbconvert_exporter": "python",
   "pygments_lexer": "ipython3",
   "version": "3.7.4"
  }
 },
 "nbformat": 4,
 "nbformat_minor": 2
}
